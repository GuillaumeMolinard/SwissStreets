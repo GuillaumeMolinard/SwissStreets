{
 "cells": [
  {
   "cell_type": "code",
   "execution_count": 36,
   "metadata": {},
   "outputs": [],
   "source": [
    "import pandas as pd\n",
    "import numpy as np\n",
    "import re as re\n",
    "import glob\n",
    "import os\n",
    "#list of cantons\n",
    "cantons = [\"AG\", \"AI\", \"AR\", \"BE\", \"BL\", \"BS\", \"FR\", \"GE\" , \"GL\", \"GR\", \"JU\", \"LU\", \"NE\", \"NW\", \"OW\", \"SG\", \"SH\", \"SO\", \"SZ\", \"TG\", \"TI\", \"UR\", \"VD\", \"VS\", \"ZG\", \"ZH\"] \n",
    "\n",
    "\n",
    "for filename in glob.glob('Cantons/*/*.csv'):\n",
    "    data = pandas.read_csv(filename, sep=';')\n",
    "\n",
    "\n",
    "https://swcarpentry.github.io/python-novice-inflammation/04-files/\n",
    "\n",
    "    \n",
    "\n"
   ]
  },
  {
   "cell_type": "code",
   "execution_count": 33,
   "metadata": {},
   "outputs": [
    {
     "ename": "NameError",
     "evalue": "name 'AG' is not defined",
     "output_type": "error",
     "traceback": [
      "\u001b[1;31m---------------------------------------------------------------------------\u001b[0m",
      "\u001b[1;31mNameError\u001b[0m                                 Traceback (most recent call last)",
      "\u001b[1;32m<ipython-input-33-fbe0788ab6ee>\u001b[0m in \u001b[0;36m<module>\u001b[1;34m()\u001b[0m\n\u001b[1;32m----> 1\u001b[1;33m \u001b[0mAG\u001b[0m\u001b[1;33m.\u001b[0m\u001b[0minfo\u001b[0m\u001b[1;33m(\u001b[0m\u001b[1;33m)\u001b[0m\u001b[1;33m\u001b[0m\u001b[0m\n\u001b[0m",
      "\u001b[1;31mNameError\u001b[0m: name 'AG' is not defined"
     ]
    }
   ],
   "source": [
    "AG.info()"
   ]
  },
  {
   "cell_type": "code",
   "execution_count": 27,
   "metadata": {},
   "outputs": [],
   "source": [
    "for filename in glob.glob('Cantons/*/*.csv'):\n",
    "    data = pandas.read_csv(filename)\n",
    "    print(filename)"
   ]
  },
  {
   "cell_type": "code",
   "execution_count": 18,
   "metadata": {},
   "outputs": [
    {
     "name": "stdout",
     "output_type": "stream",
     "text": [
      "['AG', 'AI', 'AR', 'BE', 'BL', 'BS', 'FR', 'GE', 'GL', 'GR', 'JU', 'LU', 'NE', 'NW', 'OW', 'SG', 'SH', 'SO', 'SZ', 'TG', 'TI', 'UR', 'VD', 'VS', 'ZG', 'ZH']\n"
     ]
    }
   ],
   "source": [
    "for plop in cantons\n",
    "    pandas.read_csv('Canton/AG/AG.csv')"
   ]
  },
  {
   "cell_type": "code",
   "execution_count": 20,
   "metadata": {},
   "outputs": [
    {
     "name": "stdout",
     "output_type": "stream",
     "text": [
      "I like AG\n",
      "I like AI\n",
      "I like AR\n",
      "I like BE\n",
      "I like BL\n",
      "I like BS\n",
      "I like FR\n",
      "I like GE\n",
      "I like GL\n",
      "I like GR\n",
      "I like JU\n",
      "I like LU\n",
      "I like NE\n",
      "I like NW\n",
      "I like OW\n",
      "I like SG\n",
      "I like SH\n",
      "I like SO\n",
      "I like SZ\n",
      "I like TG\n",
      "I like TI\n",
      "I like UR\n",
      "I like VD\n",
      "I like VS\n",
      "I like ZG\n",
      "I like ZH\n"
     ]
    }
   ],
   "source": [
    "for plip in cantons:\n",
    "    print(\"I like\",plip)"
   ]
  },
  {
   "cell_type": "code",
   "execution_count": null,
   "metadata": {},
   "outputs": [],
   "source": [
    "import glob\n",
    "import os\n",
    "\n",
    "file_list = glob.glob(os.path.join(os.getcwd(), \"FolderName\", \"*.txt\"))\n",
    "\n",
    "corpus = []\n",
    "\n",
    "for file_path in file_list:\n",
    "    with open(file_path) as f_input:\n",
    "        corpus.append(f_input.read())\n",
    "\n",
    "print corpus  "
   ]
  },
  {
   "cell_type": "code",
   "execution_count": 22,
   "metadata": {},
   "outputs": [
    {
     "name": "stdout",
     "output_type": "stream",
     "text": [
      "Cantons/*/*.csv\n"
     ]
    }
   ],
   "source": [
    "print(path)"
   ]
  },
  {
   "cell_type": "code",
   "execution_count": null,
   "metadata": {},
   "outputs": [],
   "source": []
  }
 ],
 "metadata": {
  "kernelspec": {
   "display_name": "Python 3",
   "language": "python",
   "name": "python3"
  },
  "language_info": {
   "codemirror_mode": {
    "name": "ipython",
    "version": 3
   },
   "file_extension": ".py",
   "mimetype": "text/x-python",
   "name": "python",
   "nbconvert_exporter": "python",
   "pygments_lexer": "ipython3",
   "version": "3.7.0"
  }
 },
 "nbformat": 4,
 "nbformat_minor": 2
}
