{
 "cells": [
  {
   "cell_type": "code",
   "execution_count": 26,
   "metadata": {},
   "outputs": [],
   "source": [
    "import pandas as pd\n",
    "import numpy as np\n",
    "import re as re\n",
    "import glob\n",
    "import os\n",
    "#list of cantons\n",
    "cantons = [\"AG\", \"AI\", \"AR\", \"BE\", \"BL\", \"BS\", \"FR\", \"GE\" , \"GL\", \"GR\", \"JU\", \"LU\", \"NE\", \"NW\", \"OW\", \"SG\", \"SH\", \"SO\", \"SZ\", \"TG\", \"TI\", \"UR\", \"VD\", \"VS\", \"ZG\", \"ZH\"] \n",
    "\n",
    "\n",
    "for filename in glob.glob('Cantons/*/*.csv'):\n",
    "    data = pandas.read_csv(filename)\n",
    "    print(filename)\n",
    "\n",
    "\n",
    "#df = { i: pd.read_csv('Canton/{0}/{0}.csv'.format(i), sep=';') for i in cantons }   #dict comprehensions\n",
    "\n",
    "#for plop in cantons\n",
    "#    df%plop = pd.read_csv('Canton/%plop/%plop.csv', sep=';')\n"
   ]
  },
  {
   "cell_type": "code",
   "execution_count": 18,
   "metadata": {},
   "outputs": [
    {
     "name": "stdout",
     "output_type": "stream",
     "text": [
      "['AG', 'AI', 'AR', 'BE', 'BL', 'BS', 'FR', 'GE', 'GL', 'GR', 'JU', 'LU', 'NE', 'NW', 'OW', 'SG', 'SH', 'SO', 'SZ', 'TG', 'TI', 'UR', 'VD', 'VS', 'ZG', 'ZH']\n"
     ]
    }
   ],
   "source": [
    "for plop in cantons\n",
    "    pandas.read_csv('Canton/AG/AG.csv')"
   ]
  },
  {
   "cell_type": "code",
   "execution_count": 20,
   "metadata": {},
   "outputs": [
    {
     "name": "stdout",
     "output_type": "stream",
     "text": [
      "I like AG\n",
      "I like AI\n",
      "I like AR\n",
      "I like BE\n",
      "I like BL\n",
      "I like BS\n",
      "I like FR\n",
      "I like GE\n",
      "I like GL\n",
      "I like GR\n",
      "I like JU\n",
      "I like LU\n",
      "I like NE\n",
      "I like NW\n",
      "I like OW\n",
      "I like SG\n",
      "I like SH\n",
      "I like SO\n",
      "I like SZ\n",
      "I like TG\n",
      "I like TI\n",
      "I like UR\n",
      "I like VD\n",
      "I like VS\n",
      "I like ZG\n",
      "I like ZH\n"
     ]
    }
   ],
   "source": [
    "for plip in cantons:\n",
    "    print(\"I like\",plip)"
   ]
  },
  {
   "cell_type": "code",
   "execution_count": null,
   "metadata": {},
   "outputs": [],
   "source": [
    "import glob\n",
    "import os\n",
    "\n",
    "file_list = glob.glob(os.path.join(os.getcwd(), \"FolderName\", \"*.txt\"))\n",
    "\n",
    "corpus = []\n",
    "\n",
    "for file_path in file_list:\n",
    "    with open(file_path) as f_input:\n",
    "        corpus.append(f_input.read())\n",
    "\n",
    "print corpus  "
   ]
  },
  {
   "cell_type": "code",
   "execution_count": 22,
   "metadata": {},
   "outputs": [
    {
     "name": "stdout",
     "output_type": "stream",
     "text": [
      "Cantons/*/*.csv\n"
     ]
    }
   ],
   "source": [
    "print(path)"
   ]
  },
  {
   "cell_type": "code",
   "execution_count": null,
   "metadata": {},
   "outputs": [],
   "source": []
  }
 ],
 "metadata": {
  "kernelspec": {
   "display_name": "Python 3",
   "language": "python",
   "name": "python3"
  },
  "language_info": {
   "codemirror_mode": {
    "name": "ipython",
    "version": 3
   },
   "file_extension": ".py",
   "mimetype": "text/x-python",
   "name": "python",
   "nbconvert_exporter": "python",
   "pygments_lexer": "ipython3",
   "version": "3.7.0"
  }
 },
 "nbformat": 4,
 "nbformat_minor": 2
}
